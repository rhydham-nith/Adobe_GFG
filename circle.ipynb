{
  "cells": [
    {
      "cell_type": "code",
      "execution_count": 50,
      "metadata": {
        "id": "SuwNESbi61PG"
      },
      "outputs": [],
      "source": [
        "import numpy as np\n",
        "\n",
        "def generate_circle(radius, num_points):\n",
        "    theta = np.linspace(0, 2 * np.pi, num_points)\n",
        "    x = radius * np.cos(theta)\n",
        "    y = radius * np.sin(theta)\n",
        "    return np.array([x, y]).T\n",
        "\n",
        "# Example: Generate data points for a circle\n",
        "radius = 1\n",
        "num_points = 100\n",
        "circle_data = generate_circle(radius, num_points)"
      ]
    },
    {
      "cell_type": "code",
      "execution_count": 51,
      "metadata": {
        "id": "-nQuhfrY8dn2"
      },
      "outputs": [],
      "source": [
        "def generate_non_circle(num_points):\n",
        "    x = np.random.uniform(-1, 1, num_points)\n",
        "    y = np.random.uniform(-1, 1, num_points)\n",
        "    return np.array([x, y]).T\n",
        "\n",
        "# Example: Generate data points for a non-circle shape\n",
        "non_circle_data = generate_non_circle(num_points)\n"
      ]
    },
    {
      "cell_type": "code",
      "execution_count": 52,
      "metadata": {
        "id": "ix703mSc8iXo"
      },
      "outputs": [],
      "source": [
        "def generate_distorted_circle(radius, num_points, distortion_level=0.1):\n",
        "    theta = np.linspace(0, 2 * np.pi, num_points)\n",
        "\n",
        "    # Introduce random distortion in radius\n",
        "    distortions = np.random.uniform(1 - distortion_level, 1 + distortion_level, num_points)\n",
        "    x = radius * distortions * np.cos(theta)\n",
        "    y = radius * distortions * np.sin(theta)\n",
        "\n",
        "    # Optionally, apply an affine transformation to stretch or rotate\n",
        "    transform_matrix = np.array([[np.random.uniform(0.9, 1.1), np.random.uniform(-0.1, 0.1)],\n",
        "                                 [np.random.uniform(-0.1, 0.1), np.random.uniform(0.9, 1.1)]])\n",
        "\n",
        "    distorted_circle = np.dot(np.array([x, y]).T, transform_matrix)\n",
        "    return distorted_circle\n",
        "\n",
        "# Example: Generate a distorted circle\n",
        "distorted_circle_data = generate_distorted_circle(radius, num_points)\n"
      ]
    },
    {
      "cell_type": "code",
      "execution_count": 53,
      "metadata": {
        "id": "mJueiIkKMkAG"
      },
      "outputs": [],
      "source": [
        "# Generate multiple examples of circles and non-circles\n",
        "num_samples = 1000\n",
        "circle_samples = [generate_circle(radius, num_points) for _ in range(num_samples)]\n",
        "non_circle_samples = [generate_non_circle(num_points) for _ in range(num_samples)]\n",
        "\n",
        "# Labels: 1 for circle, 0 for non-circle\n",
        "labels = np.array([1] * num_samples + [0] * num_samples)\n",
        "\n",
        "# Combine the data\n",
        "data = np.array(circle_samples + non_circle_samples)\n",
        "\n",
        "# Shuffle the dataset\n",
        "indices = np.arange(data.shape[0])\n",
        "np.random.shuffle(indices)\n",
        "data = data[indices]\n",
        "labels = labels[indices]"
      ]
    },
    {
      "cell_type": "code",
      "execution_count": 54,
      "metadata": {
        "id": "PrgL3SeLEkJ_"
      },
      "outputs": [],
      "source": [
        "# Generate additional distorted circle samples\n",
        "distorted_circle_samples = [generate_distorted_circle(radius, num_points) for _ in range(num_samples)]\n",
        "\n",
        "# Combine all data\n",
        "augmented_data = np.array(circle_samples + non_circle_samples + distorted_circle_samples)\n",
        "augmented_labels = np.array([1] * num_samples + [0] * num_samples + [1] * num_samples)\n",
        "\n",
        "# Shuffle the augmented dataset\n",
        "indices = np.arange(augmented_data.shape[0])\n",
        "np.random.shuffle(indices)\n",
        "augmented_data = augmented_data[indices]\n",
        "augmented_labels = augmented_labels[indices]\n"
      ]
    },
    {
      "cell_type": "code",
      "execution_count": 55,
      "metadata": {
        "colab": {
          "base_uri": "https://localhost:8080/"
        },
        "id": "HexSC1f1EoVH",
        "outputId": "b8d18818-1014-445b-fe2b-564d55fe5816"
      },
      "outputs": [
        {
          "output_type": "stream",
          "name": "stdout",
          "text": [
            "Epoch 1/10\n",
            "\u001b[1m75/75\u001b[0m \u001b[32m━━━━━━━━━━━━━━━━━━━━\u001b[0m\u001b[37m\u001b[0m \u001b[1m21s\u001b[0m 186ms/step - accuracy: 0.8943 - loss: 0.2394 - val_accuracy: 1.0000 - val_loss: 1.3650e-04\n",
            "Epoch 2/10\n",
            "\u001b[1m75/75\u001b[0m \u001b[32m━━━━━━━━━━━━━━━━━━━━\u001b[0m\u001b[37m\u001b[0m \u001b[1m13s\u001b[0m 173ms/step - accuracy: 1.0000 - loss: 1.0847e-04 - val_accuracy: 1.0000 - val_loss: 6.3504e-05\n",
            "Epoch 3/10\n",
            "\u001b[1m75/75\u001b[0m \u001b[32m━━━━━━━━━━━━━━━━━━━━\u001b[0m\u001b[37m\u001b[0m \u001b[1m21s\u001b[0m 181ms/step - accuracy: 1.0000 - loss: 5.4320e-05 - val_accuracy: 1.0000 - val_loss: 3.6808e-05\n",
            "Epoch 4/10\n",
            "\u001b[1m75/75\u001b[0m \u001b[32m━━━━━━━━━━━━━━━━━━━━\u001b[0m\u001b[37m\u001b[0m \u001b[1m20s\u001b[0m 175ms/step - accuracy: 1.0000 - loss: 3.2455e-05 - val_accuracy: 1.0000 - val_loss: 2.4159e-05\n",
            "Epoch 5/10\n",
            "\u001b[1m75/75\u001b[0m \u001b[32m━━━━━━━━━━━━━━━━━━━━\u001b[0m\u001b[37m\u001b[0m \u001b[1m21s\u001b[0m 179ms/step - accuracy: 1.0000 - loss: 2.2142e-05 - val_accuracy: 1.0000 - val_loss: 1.7167e-05\n",
            "Epoch 6/10\n",
            "\u001b[1m75/75\u001b[0m \u001b[32m━━━━━━━━━━━━━━━━━━━━\u001b[0m\u001b[37m\u001b[0m \u001b[1m20s\u001b[0m 179ms/step - accuracy: 1.0000 - loss: 1.5589e-05 - val_accuracy: 1.0000 - val_loss: 1.2917e-05\n",
            "Epoch 7/10\n",
            "\u001b[1m75/75\u001b[0m \u001b[32m━━━━━━━━━━━━━━━━━━━━\u001b[0m\u001b[37m\u001b[0m \u001b[1m21s\u001b[0m 179ms/step - accuracy: 1.0000 - loss: 1.2024e-05 - val_accuracy: 1.0000 - val_loss: 1.0092e-05\n",
            "Epoch 8/10\n",
            "\u001b[1m75/75\u001b[0m \u001b[32m━━━━━━━━━━━━━━━━━━━━\u001b[0m\u001b[37m\u001b[0m \u001b[1m20s\u001b[0m 177ms/step - accuracy: 1.0000 - loss: 9.2941e-06 - val_accuracy: 1.0000 - val_loss: 8.1354e-06\n",
            "Epoch 9/10\n",
            "\u001b[1m75/75\u001b[0m \u001b[32m━━━━━━━━━━━━━━━━━━━━\u001b[0m\u001b[37m\u001b[0m \u001b[1m21s\u001b[0m 181ms/step - accuracy: 1.0000 - loss: 7.5204e-06 - val_accuracy: 1.0000 - val_loss: 6.6962e-06\n",
            "Epoch 10/10\n",
            "\u001b[1m75/75\u001b[0m \u001b[32m━━━━━━━━━━━━━━━━━━━━\u001b[0m\u001b[37m\u001b[0m \u001b[1m16s\u001b[0m 211ms/step - accuracy: 1.0000 - loss: 6.4596e-06 - val_accuracy: 1.0000 - val_loss: 5.6158e-06\n"
          ]
        }
      ],
      "source": [
        "from sklearn.model_selection import train_test_split\n",
        "from tensorflow.keras.models import Sequential\n",
        "from tensorflow.keras.layers import Bidirectional, LSTM, Dense\n",
        "# Split the augmented dataset\n",
        "X_train_aug, X_test_aug, y_train_aug, y_test_aug = train_test_split(augmented_data, augmented_labels, test_size=0.2, random_state=42)\n",
        "\n",
        "# Define and compile the Bi-LSTM model\n",
        "model = Sequential([\n",
        "    Bidirectional(LSTM(64, return_sequences=True), input_shape=(num_points, 2)),\n",
        "    Bidirectional(LSTM(64)),\n",
        "    Dense(32, activation='relu'),\n",
        "    Dense(1, activation='sigmoid')\n",
        "])\n",
        "\n",
        "model.compile(optimizer='adam', loss='binary_crossentropy', metrics=['accuracy'])\n",
        "\n",
        "# Train the model with the augmented dataset\n",
        "history = model.fit(X_train_aug, y_train_aug, epochs=10, batch_size=32, validation_data=(X_test_aug, y_test_aug))\n"
      ]
    },
    {
      "cell_type": "code",
      "execution_count": 56,
      "metadata": {
        "colab": {
          "base_uri": "https://localhost:8080/"
        },
        "id": "PaV3LJTRE8fW",
        "outputId": "1314c1b0-7574-4df6-d977-3eac8838791d"
      },
      "outputs": [
        {
          "output_type": "stream",
          "name": "stdout",
          "text": [
            "\u001b[1m19/19\u001b[0m \u001b[32m━━━━━━━━━━━━━━━━━━━━\u001b[0m\u001b[37m\u001b[0m \u001b[1m1s\u001b[0m 47ms/step - accuracy: 1.0000 - loss: 5.5704e-06\n",
            "Test Loss: 5.61583146918565e-06\n",
            "Test Accuracy: 1.0\n",
            "\u001b[1m1/1\u001b[0m \u001b[32m━━━━━━━━━━━━━━━━━━━━\u001b[0m\u001b[37m\u001b[0m \u001b[1m1s\u001b[0m 622ms/step\n",
            "The sequence is recognized as a circle.\n"
          ]
        }
      ],
      "source": [
        "loss, accuracy = model.evaluate(X_test_aug, y_test_aug)\n",
        "print(f'Test Loss: {loss}')\n",
        "print(f'Test Accuracy: {accuracy}')\n",
        "\n",
        "# Test on a new distorted circle\n",
        "new_distorted_circle = generate_distorted_circle(radius, num_points)\n",
        "new_distorted_circle = new_distorted_circle.reshape(1, num_points, 2)\n",
        "prediction = model.predict(new_distorted_circle)\n",
        "\n",
        "if prediction > 0.5:\n",
        "    print(\"The sequence is recognized as a circle.\")\n",
        "else:\n",
        "    print(\"The sequence is not recognized as a circle.\")"
      ]
    },
    {
      "cell_type": "code",
      "execution_count": 57,
      "metadata": {
        "colab": {
          "base_uri": "https://localhost:8080/"
        },
        "id": "ri5FDGaWFU6a",
        "outputId": "e86c5eff-d6a2-496a-a625-18b05e013ad8"
      },
      "outputs": [
        {
          "output_type": "stream",
          "name": "stdout",
          "text": [
            "\u001b[1m1/1\u001b[0m \u001b[32m━━━━━━━━━━━━━━━━━━━━\u001b[0m\u001b[37m\u001b[0m \u001b[1m0s\u001b[0m 39ms/step\n",
            "Distortion Level: 0.1, Prediction: Circle\n",
            "\u001b[1m1/1\u001b[0m \u001b[32m━━━━━━━━━━━━━━━━━━━━\u001b[0m\u001b[37m\u001b[0m \u001b[1m0s\u001b[0m 45ms/step\n",
            "Distortion Level: 0.2, Prediction: Circle\n",
            "\u001b[1m1/1\u001b[0m \u001b[32m━━━━━━━━━━━━━━━━━━━━\u001b[0m\u001b[37m\u001b[0m \u001b[1m0s\u001b[0m 38ms/step\n",
            "Distortion Level: 0.3, Prediction: Circle\n",
            "\u001b[1m1/1\u001b[0m \u001b[32m━━━━━━━━━━━━━━━━━━━━\u001b[0m\u001b[37m\u001b[0m \u001b[1m0s\u001b[0m 46ms/step\n",
            "Distortion Level: 0.4, Prediction: Circle\n",
            "\u001b[1m1/1\u001b[0m \u001b[32m━━━━━━━━━━━━━━━━━━━━\u001b[0m\u001b[37m\u001b[0m \u001b[1m0s\u001b[0m 38ms/step\n",
            "Distortion Level: 0.5, Prediction: Circle\n",
            "\u001b[1m1/1\u001b[0m \u001b[32m━━━━━━━━━━━━━━━━━━━━\u001b[0m\u001b[37m\u001b[0m \u001b[1m0s\u001b[0m 46ms/step\n",
            "Distortion Level: 0.5, Prediction: Circle\n",
            "\u001b[1m1/1\u001b[0m \u001b[32m━━━━━━━━━━━━━━━━━━━━\u001b[0m\u001b[37m\u001b[0m \u001b[1m0s\u001b[0m 51ms/step\n",
            "Distortion Level: 0.7, Prediction: Circle\n",
            "\u001b[1m1/1\u001b[0m \u001b[32m━━━━━━━━━━━━━━━━━━━━\u001b[0m\u001b[37m\u001b[0m \u001b[1m0s\u001b[0m 56ms/step\n",
            "Distortion Level: 1, Prediction: Circle\n",
            "\u001b[1m1/1\u001b[0m \u001b[32m━━━━━━━━━━━━━━━━━━━━\u001b[0m\u001b[37m\u001b[0m \u001b[1m0s\u001b[0m 42ms/step\n",
            "Distortion Level: 5, Prediction: Non-Circle\n"
          ]
        }
      ],
      "source": [
        "distortion_levels = [0.1, 0.2, 0.3, 0.4, 0.5,0.5,0.7,1,5]\n",
        "for distortion_level in distortion_levels:\n",
        "    test_distorted_circle = generate_distorted_circle(radius, num_points, distortion_level)\n",
        "    test_distorted_circle = test_distorted_circle.reshape(1, num_points, 2)\n",
        "    prediction = model.predict(test_distorted_circle)\n",
        "\n",
        "    print(f\"Distortion Level: {distortion_level}, Prediction: {'Circle' if prediction > 0.5 else 'Non-Circle'}\")\n"
      ]
    },
    {
      "cell_type": "markdown",
      "source": [
        "#fitted circle"
      ],
      "metadata": {
        "id": "-cOfME9lnxGa"
      }
    },
    {
      "cell_type": "code",
      "source": [
        "from scipy.optimize import least_squares\n",
        "\n",
        "def fit_circle(x, y):\n",
        "    # Initial guess for the circle parameters (center_x, center_y, radius)\n",
        "    x_m = np.mean(x)\n",
        "    y_m = np.mean(y)\n",
        "    initial_guess = [x_m, y_m, np.std(x)]\n",
        "\n",
        "    def calc_radius(xc, yc):\n",
        "        return np.sqrt((x - xc)**2 + (y - yc)**2)\n",
        "\n",
        "    def cost_function(params):\n",
        "        xc, yc, r = params\n",
        "        return calc_radius(xc, yc) - r\n",
        "\n",
        "    # Optimize to find the best circle parameters\n",
        "    result = least_squares(cost_function, initial_guess)\n",
        "    xc, yc, r = result.x\n",
        "    return xc, yc, r\n",
        "\n",
        "# Example usage with distorted circle data\n",
        "x, y = distorted_circle_data[:, 0], distorted_circle_data[:, 1]\n",
        "xc, yc, radius = fit_circle(x, y)\n",
        "print(f\"Fitted circle center: ({xc}, {yc}), radius: {radius}\")\n"
      ],
      "metadata": {
        "colab": {
          "base_uri": "https://localhost:8080/"
        },
        "id": "HnennB26noVK",
        "outputId": "73f90d07-f012-4198-81e9-3049a6844f87"
      },
      "execution_count": 64,
      "outputs": [
        {
          "output_type": "stream",
          "name": "stdout",
          "text": [
            "Fitted circle center: (0.006455260802989471, -0.017109832593201573), radius: 1.0572130457122388\n"
          ]
        }
      ]
    },
    {
      "cell_type": "code",
      "source": [
        "def generate_fitted_circle(xc, yc, radius, num_points=100):\n",
        "    theta = np.linspace(0, 2 * np.pi, num_points)\n",
        "    x_fit = xc + radius * np.cos(theta)\n",
        "    y_fit = yc + radius * np.sin(theta)\n",
        "    return np.array([x_fit, y_fit]).T\n",
        "\n",
        "# Generate the circle points\n",
        "fitted_circle = generate_fitted_circle(xc, yc, radius)\n",
        "\n",
        "# Plot the original distorted points and the fitted circle\n",
        "plt.figure(figsize=(6, 6))\n",
        "plt.plot(x, y, 'ro', label='Distorted Circle')\n",
        "plt.plot(fitted_circle[:, 0], fitted_circle[:, 1], 'b-', label='Fitted Circle')\n",
        "plt.legend()\n",
        "plt.xlabel('X')\n",
        "plt.ylabel('Y')\n",
        "plt.title('Fitted Circle vs. Distorted Circle')\n",
        "plt.axis('equal')\n",
        "plt.show()\n"
      ],
      "metadata": {
        "colab": {
          "base_uri": "https://localhost:8080/",
          "height": 564
        },
        "id": "9vV5JnNHnq0E",
        "outputId": "67caee03-cea7-4b12-a257-9a05cda0bf5b"
      },
      "execution_count": 65,
      "outputs": [
        {
          "output_type": "display_data",
          "data": {
            "text/plain": [
              "<Figure size 600x600 with 1 Axes>"
            ],
            "image/png": "[encoded data removed]"
          },
          "metadata": {}
        }
      ]
    }
  ],
  "metadata": {
    "colab": {
      "provenance": []
    },
    "kernelspec": {
      "display_name": "Python 3",
      "name": "python3"
    },
    "language_info": {
      "name": "python"
    }
  },
  "nbformat": 4,
  "nbformat_minor": 0
}